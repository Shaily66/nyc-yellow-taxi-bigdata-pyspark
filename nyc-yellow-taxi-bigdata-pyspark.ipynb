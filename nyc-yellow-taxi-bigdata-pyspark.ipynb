{
 "cells": [
  {
   "cell_type": "code",
   "execution_count": 2,
   "id": "e623f01f-26a2-4282-8e88-b4ad29fc042e",
   "metadata": {},
   "outputs": [],
   "source": [
    "# NYC Yellow Taxi Trip Analysis (September 2020)\n",
    "\n",
    "from pyspark.sql import SparkSession\n",
    "from pyspark.sql.functions import col, to_timestamp, date_format, hour, dayofweek, avg, count, when\n"
   ]
  },
  {
   "cell_type": "code",
   "execution_count": 3,
   "id": "ff7a5cb8-dc04-4eca-b9d9-fab4efcb94f6",
   "metadata": {},
   "outputs": [],
   "source": [
    "# Step 1: Initialize Spark Session\n",
    "spark = SparkSession.builder \\\n",
    "    .appName(\"NYC Yellow Taxi September 2020 Analysis\") \\\n",
    "    .config(\"spark.driver.memory\", \"4g\") \\\n",
    "    .getOrCreate()"
   ]
  },
  {
   "cell_type": "code",
   "execution_count": 5,
   "id": "b688019b-56f5-48b4-8b0c-2a31d00ad2d2",
   "metadata": {},
   "outputs": [],
   "source": [
    "# Step 2: Load Dataset\n",
    "df = spark.read.csv(\"yellow_tripdata_2020-09.csv\", header=True, inferSchema=True)"
   ]
  },
  {
   "cell_type": "code",
   "execution_count": 6,
   "id": "6045e1de-366b-4d88-8d13-2361cf47a121",
   "metadata": {},
   "outputs": [],
   "source": [
    "# Step 3: Convert datetime columns to timestamp\n",
    "df = df.withColumn(\"pickup_datetime\", to_timestamp(col(\"tpep_pickup_datetime\"))) \\\n",
    "       .withColumn(\"dropoff_datetime\", to_timestamp(col(\"tpep_dropoff_datetime\")))\n"
   ]
  },
  {
   "cell_type": "code",
   "execution_count": 7,
   "id": "cb9af6f6-d4d7-4e13-ab0d-ff0f13b0c02d",
   "metadata": {},
   "outputs": [],
   "source": [
    "# Step 4: Data Cleaning\n",
    "df_clean = df.dropna(subset=[\"pickup_datetime\", \"dropoff_datetime\", \"passenger_count\", \"trip_distance\", \"total_amount\"]) \\\n",
    "             .filter((col(\"trip_distance\") > 0) & (col(\"total_amount\") > 0))"
   ]
  },
  {
   "cell_type": "code",
   "execution_count": 8,
   "id": "f20ecaa8-f735-457d-835c-457a0ab3a8d7",
   "metadata": {},
   "outputs": [],
   "source": [
    "# Step 5: Feature Engineering\n",
    "trips = df_clean.withColumn(\"hour\", hour(col(\"pickup_datetime\"))) \\\n",
    "                .withColumn(\"day_of_week\", dayofweek(col(\"pickup_datetime\")))\n"
   ]
  },
  {
   "cell_type": "code",
   "execution_count": 9,
   "id": "d39ebada-7e48-4794-b2fc-e9b6232ffd87",
   "metadata": {},
   "outputs": [],
   "source": [
    "# Step 6: Analysis\n",
    "\n",
    "# 1. Trips per Day\n",
    "trips_per_day = trips.groupBy(date_format(\"pickup_datetime\", \"yyyy-MM-dd\").alias(\"date\")).count()\n",
    "\n",
    "# 2. Busiest Pickup Hours\n",
    "busiest_hours = trips.groupBy(\"hour\").count().orderBy(\"hour\")\n",
    "\n",
    "# 3. Average Fare by Trip Distance Range\n",
    "trips = trips.withColumn(\"distance_range\", \n",
    "    when(col(\"trip_distance\") <= 2, \"0-2 km\")\n",
    "    .when(col(\"trip_distance\") <= 5, \"2-5 km\")\n",
    "    .when(col(\"trip_distance\") <= 10, \"5-10 km\")\n",
    "    .otherwise(\"10+ km\"))\n",
    "\n",
    "avg_fare_by_distance = trips.groupBy(\"distance_range\").agg(avg(\"total_amount\").alias(\"avg_fare\"))\n",
    "\n",
    "# 4. Passenger Count vs Average Trip Distance\n",
    "passenger_vs_distance = trips.groupBy(\"passenger_count\").agg(avg(\"trip_distance\").alias(\"avg_distance\"))\n",
    "\n"
   ]
  },
  {
   "cell_type": "code",
   "execution_count": 10,
   "id": "9a39ac97-c10f-49e1-8543-1a5040d35dbd",
   "metadata": {},
   "outputs": [
    {
     "name": "stdout",
     "output_type": "stream",
     "text": [
      "✅ Trips per Day:\n",
      "+----------+-----+\n",
      "|      date|count|\n",
      "+----------+-----+\n",
      "|2020-09-12|   34|\n",
      "|2020-09-11|   50|\n",
      "|2020-09-20|   24|\n",
      "|2020-09-06|   16|\n",
      "|2020-09-14|   20|\n",
      "+----------+-----+\n",
      "only showing top 5 rows\n",
      "\n",
      "✅ Busiest Pickup Hours:\n",
      "+----+-----+\n",
      "|hour|count|\n",
      "+----+-----+\n",
      "|   0|   13|\n",
      "|   1|    9|\n",
      "|   2|    5|\n",
      "|   4|    1|\n",
      "|   5|    6|\n",
      "|   6|   19|\n",
      "|   7|   41|\n",
      "|   8|   51|\n",
      "|   9|   52|\n",
      "|  10|   39|\n",
      "|  11|   53|\n",
      "|  12|   39|\n",
      "|  13|   67|\n",
      "|  14|   65|\n",
      "|  15|   66|\n",
      "|  16|   61|\n",
      "|  17|   62|\n",
      "|  18|   61|\n",
      "|  19|   66|\n",
      "|  20|   50|\n",
      "+----+-----+\n",
      "only showing top 20 rows\n",
      "\n",
      "✅ Average Fare by Distance Range:\n",
      "+--------------+------------------+\n",
      "|distance_range|          avg_fare|\n",
      "+--------------+------------------+\n",
      "|        10+ km| 57.86423076923077|\n",
      "|        0-2 km| 11.58889655172421|\n",
      "|       5-10 km| 30.38507936507935|\n",
      "|        2-5 km|18.704233870967776|\n",
      "+--------------+------------------+\n",
      "\n",
      "\n",
      "✅ Passenger Count vs Avg Trip Distance:\n",
      "+---------------+------------------+\n",
      "|passenger_count|      avg_distance|\n",
      "+---------------+------------------+\n",
      "|            0.0|1.9166666666666667|\n",
      "|            1.0| 2.481909620991253|\n",
      "|            4.0|1.8194736842105268|\n",
      "|            3.0| 1.955185185185185|\n",
      "|            2.0| 2.395736434108526|\n",
      "|            6.0|2.0289473684210524|\n",
      "|            5.0|3.0824000000000003|\n",
      "+---------------+------------------+\n",
      "\n"
     ]
    }
   ],
   "source": [
    "# Step 7: Show Results\n",
    "print(\"✅ Trips per Day:\")\n",
    "trips_per_day.show(5)\n",
    "\n",
    "print(\"\\n✅ Busiest Pickup Hours:\")\n",
    "busiest_hours.show()\n",
    "\n",
    "print(\"\\n✅ Average Fare by Distance Range:\")\n",
    "avg_fare_by_distance.show()\n",
    "\n",
    "print(\"\\n✅ Passenger Count vs Avg Trip Distance:\")\n",
    "passenger_vs_distance.show()\n",
    "\n"
   ]
  },
  {
   "cell_type": "code",
   "execution_count": 11,
   "id": "f9352b25-f90e-4b2c-9ea5-259792041090",
   "metadata": {},
   "outputs": [],
   "source": [
    "# Step 8: Stop Spark\n",
    "spark.stop()"
   ]
  },
  {
   "cell_type": "code",
   "execution_count": null,
   "id": "dc870833-a58c-44f7-8bd4-92b53c1c8111",
   "metadata": {},
   "outputs": [],
   "source": []
  }
 ],
 "metadata": {
  "kernelspec": {
   "display_name": "Python 3 (ipykernel)",
   "language": "python",
   "name": "python3"
  },
  "language_info": {
   "codemirror_mode": {
    "name": "ipython",
    "version": 3
   },
   "file_extension": ".py",
   "mimetype": "text/x-python",
   "name": "python",
   "nbconvert_exporter": "python",
   "pygments_lexer": "ipython3",
   "version": "3.12.7"
  }
 },
 "nbformat": 4,
 "nbformat_minor": 5
}
